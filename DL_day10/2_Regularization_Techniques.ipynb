{
  "cells": [
    {
      "cell_type": "markdown",
      "metadata": {
        "id": "view-in-github",
        "colab_type": "text"
      },
      "source": [
        "<a href=\"https://colab.research.google.com/github/woojin716/PyTorch/blob/main/DL_day10/2_Regularization_Techniques.ipynb\" target=\"_parent\"><img src=\"https://colab.research.google.com/assets/colab-badge.svg\" alt=\"Open In Colab\"/></a>"
      ]
    },
    {
      "cell_type": "markdown",
      "metadata": {
        "id": "RCm_2acWlEBG"
      },
      "source": [
        "# Regularization Techniques"
      ]
    },
    {
      "cell_type": "markdown",
      "metadata": {
        "id": "XpPd-BKylEBH"
      },
      "source": [
        "Ref:    \n",
        "* https://pytorch.org/tutorials/beginner/basics/data_tutorial.html\n",
        "* https://yceffort.kr/2019/02/13/pytorch-fashion-MNIST"
      ]
    },
    {
      "cell_type": "markdown",
      "metadata": {
        "id": "CBooC05MlEBI"
      },
      "source": [
        "본 실습에서는 FashionMNIST data를 활용하였습니다.\n",
        "\n",
        "- 이미지 크기: 28x28 픽셀 (흑백 이미지)\n",
        "- 훈련 데이터: 60,000개\n",
        "- 테스트 데이터: 10,000개\n",
        "- 클래스 수: 10개\n",
        "\n",
        "      0 - T-shirt/top  \n",
        "      1 - Trouser  \n",
        "      2 - Pullover  \n",
        "      3 - Dress  \n",
        "      4 - Coat  \n",
        "      5 - Sandal  \n",
        "      6 - Shirt  \n",
        "      7 - Sneaker  \n",
        "      8 - Bag  \n",
        "      9 - Ankle boot  "
      ]
    },
    {
      "cell_type": "markdown",
      "metadata": {
        "id": "VYtzCJWNlEBJ"
      },
      "source": [
        "## Import Libraries"
      ]
    },
    {
      "cell_type": "code",
      "execution_count": 1,
      "metadata": {
        "id": "gUBVoVrrlEBJ"
      },
      "outputs": [],
      "source": [
        "import numpy as np\n",
        "import matplotlib.pyplot as plt\n",
        "%matplotlib inline\n",
        "\n",
        "import torch\n",
        "import torch.nn as nn\n",
        "import torch.nn.functional as F\n",
        "import torch.optim as optim\n",
        "\n",
        "from torch.utils.data import DataLoader\n",
        "\n",
        "from torchvision import datasets, transforms\n",
        "\n",
        "from torchsummary import summary"
      ]
    },
    {
      "cell_type": "markdown",
      "metadata": {
        "id": "znyjwtRHlEBK"
      },
      "source": [
        "## Load Data (FashionMNIST)"
      ]
    },
    {
      "cell_type": "code",
      "execution_count": 2,
      "metadata": {
        "id": "3KJ5ZEzYlEBK",
        "outputId": "05fc0ae1-5287-43d2-c058-04fc43eed9a7",
        "colab": {
          "base_uri": "https://localhost:8080/"
        }
      },
      "outputs": [
        {
          "output_type": "stream",
          "name": "stderr",
          "text": [
            "100%|██████████| 26.4M/26.4M [00:02<00:00, 9.47MB/s]\n",
            "100%|██████████| 29.5k/29.5k [00:00<00:00, 199kB/s]\n",
            "100%|██████████| 4.42M/4.42M [00:01<00:00, 3.72MB/s]\n",
            "100%|██████████| 5.15k/5.15k [00:00<00:00, 12.3MB/s]\n"
          ]
        }
      ],
      "source": [
        "training_data = datasets.FashionMNIST(\n",
        "    root=\"data\",\n",
        "    train=True,\n",
        "    download=True,\n",
        "    transform=transforms.ToTensor()\n",
        ")\n",
        "\n",
        "test_data = datasets.FashionMNIST(\n",
        "    root=\"data\",\n",
        "    train=False,\n",
        "    download=True,\n",
        "    transform=transforms.ToTensor()\n",
        ")"
      ]
    },
    {
      "cell_type": "code",
      "execution_count": 3,
      "metadata": {
        "id": "6HhJX0SZlEBK",
        "outputId": "1f1cd3ac-1793-46d7-cfab-5bf993f63c69",
        "colab": {
          "base_uri": "https://localhost:8080/",
          "height": 675
        }
      },
      "outputs": [
        {
          "output_type": "display_data",
          "data": {
            "text/plain": [
              "<Figure size 800x800 with 9 Axes>"
            ],
            "image/png": "[encoded data removed]"
          },
          "metadata": {}
        }
      ],
      "source": [
        "labels_map = {\n",
        "    0: \"T-Shirt\",\n",
        "    1: \"Trouser\",\n",
        "    2: \"Pullover\",\n",
        "    3: \"Dress\",\n",
        "    4: \"Coat\",\n",
        "    5: \"Sandal\",\n",
        "    6: \"Shirt\",\n",
        "    7: \"Sneaker\",\n",
        "    8: \"Bag\",\n",
        "    9: \"Ankle Boot\",\n",
        "}\n",
        "figure = plt.figure(figsize=(8, 8))\n",
        "cols, rows = 3, 3\n",
        "for i in range(1, cols * rows + 1):\n",
        "    sample_idx = torch.randint(len(training_data), size=(1,)).item()\n",
        "    img, label = training_data[sample_idx]\n",
        "    figure.add_subplot(rows, cols, i)\n",
        "    plt.title(labels_map[label])\n",
        "    plt.axis(\"off\")\n",
        "    plt.imshow(img.squeeze(), cmap=\"gray\")\n",
        "plt.show()"
      ]
    },
    {
      "cell_type": "code",
      "execution_count": 4,
      "metadata": {
        "id": "gYXLPqhalEBL"
      },
      "outputs": [],
      "source": [
        "batch_size = 32"
      ]
    },
    {
      "cell_type": "code",
      "execution_count": 5,
      "metadata": {
        "id": "b81KQI1PlEBL"
      },
      "outputs": [],
      "source": [
        "train_dataloader = DataLoader(\n",
        "    training_data,\n",
        "    batch_size=batch_size,\n",
        "    shuffle=True\n",
        ")\n",
        "\n",
        "test_dataloader = DataLoader(\n",
        "    test_data,\n",
        "    batch_size=batch_size,\n",
        "    shuffle=True\n",
        ")"
      ]
    },
    {
      "cell_type": "code",
      "execution_count": 6,
      "metadata": {
        "id": "lmuxW3jOlEBL",
        "outputId": "3799706a-d96d-4ce7-e173-625012e9061d",
        "colab": {
          "base_uri": "https://localhost:8080/",
          "height": 484
        }
      },
      "outputs": [
        {
          "output_type": "stream",
          "name": "stdout",
          "text": [
            "Feature batch shape: torch.Size([32, 1, 28, 28])\n",
            "Labels batch shape: torch.Size([32])\n"
          ]
        },
        {
          "output_type": "display_data",
          "data": {
            "text/plain": [
              "<Figure size 640x480 with 1 Axes>"
            ],
            "image/png": "[encoded data removed]"
          },
          "metadata": {}
        },
        {
          "output_type": "stream",
          "name": "stdout",
          "text": [
            "Label: 2 (labels_map[int(label)])\n"
          ]
        }
      ],
      "source": [
        "# Display image and label.\n",
        "train_features, train_labels = next(iter(train_dataloader))\n",
        "print(f\"Feature batch shape: {train_features.size()}\")\n",
        "print(f\"Labels batch shape: {train_labels.size()}\")\n",
        "img = train_features[0].squeeze()\n",
        "label = train_labels[0]\n",
        "plt.imshow(img, cmap=\"gray\")\n",
        "plt.show()\n",
        "print(f\"Label: {label} (labels_map[int(label)])\")"
      ]
    },
    {
      "cell_type": "code",
      "execution_count": 7,
      "metadata": {
        "id": "2jMKoVaQlEBL",
        "outputId": "78b15067-2f8a-4f00-fc62-ed77b37a37ae",
        "colab": {
          "base_uri": "https://localhost:8080/"
        }
      },
      "outputs": [
        {
          "output_type": "execute_result",
          "data": {
            "text/plain": [
              "60000"
            ]
          },
          "metadata": {},
          "execution_count": 7
        }
      ],
      "source": [
        "len(training_data)"
      ]
    },
    {
      "cell_type": "code",
      "execution_count": 8,
      "metadata": {
        "id": "MysZDwIDlEBL",
        "outputId": "9b06dfe2-3f13-472b-f87b-322d35f2ad3f",
        "colab": {
          "base_uri": "https://localhost:8080/"
        }
      },
      "outputs": [
        {
          "output_type": "execute_result",
          "data": {
            "text/plain": [
              "1875"
            ]
          },
          "metadata": {},
          "execution_count": 8
        }
      ],
      "source": [
        "len(train_dataloader)"
      ]
    },
    {
      "cell_type": "markdown",
      "metadata": {
        "id": "0g_346G2lEBL"
      },
      "source": [
        "## Build Neural Network with Regularization & Normalization Techniques\n",
        "\n",
        "### 1. Batch Normalization (BN)\n",
        "\n",
        "- **목적**  \n",
        "  - 배치 단위로 입력 데이터를 정규화하여 학습을 안정화하고 속도를 높임  \n",
        "  - 내부 공변량 변화(Internal Covariate Shift)를 줄여 모델의 학습 성능 향상  \n",
        "\n",
        "- **동작 방식**  \n",
        "  1. 미니배치(배치 크기: `N`)에서 각 특성(feature)에 대해 평균(𝜇)과 분산(𝜎²) 계산  \n",
        "  2. 평균과 분산을 이용해 정규화 수행  \n",
        "  3. 학습 가능한 스케일(γ)과 시프트(β) 파라미터를 적용하여 최종 변환  \n",
        "\n",
        "-\n",
        "$\n",
        "\\hat{x}_i = \\frac{x_i - \\mu_B}{\\sqrt{\\sigma_B^2 + \\epsilon}}\n",
        ", \\quad\n",
        "y_i = \\gamma \\hat{x}_i + \\beta\n",
        "$\n",
        "\n",
        "- **특징**\n",
        "  - 배치 크기에 따라 평균과 분산이 달라짐 (배치 크기가 작을 경우 불안정)  \n",
        "  - 주로 CNN(합성곱 신경망)에서 사용됨  \n",
        "\n",
        "---\n",
        "\n",
        "### (참고) Layer Normalization (LN)\n",
        "\n",
        "- **목적**  \n",
        "  - 배치 크기에 의존하지 않고, 샘플 단위로 정규화를 수행하여 안정적인 학습을 유도  \n",
        "  - RNN과 같이 배치 크기가 변하는 경우에도 효과적  \n",
        "\n",
        "- **동작 방식**  \n",
        "  1. 각 샘플(인스턴스)에서 모든 특성(feature)에 대해 평균(𝜇)과 분산(𝜎²) 계산  \n",
        "  2. 평균과 분산을 이용해 정규화 수행  \n",
        "  3. 학습 가능한 스케일(γ)과 시프트(β) 파라미터를 적용하여 최종 변환  \n",
        "\n",
        "- **특징**\n",
        "  - 배치 크기와 관계없이 동작 가능  \n",
        "  - 주로 RNN(순환 신경망)과 같은 시퀀스 모델에서 사용됨  \n",
        "\n",
        "---\n",
        "\n",
        "### 3. Dropout\n",
        "\n",
        "- **목적**  \n",
        "  - 뉴런을 랜덤하게 제거(비활성화)하여 과적합(overfitting)을 방지  \n",
        "\n",
        "- **동작 방식**  \n",
        "  1. 학습 중 무작위로 일부 뉴런을 확률 `p`에 따라 0으로 설정 (비활성화)  \n",
        "  2. 테스트 시에는 모든 뉴런을 사용하지만, 학습 시 비활성화 확률을 고려하여 스케일링  \n",
        "\n",
        "- **특징**\n",
        "  - Fully Connected Layer에서 자주 사용됨  \n",
        "  - 과적합 방지에 효과적  \n",
        "\n",
        "---\n",
        "\n",
        "## Summary\n",
        "\n",
        "| 기법 | 목적 | 정규화 기준 | 주로 사용되는 곳 |\n",
        "|------|------|-----------|----------------|\n",
        "| **Batch Normalization** | 학습 안정화, 속도 향상 | 배치별 정규화 | CNN, 딥러닝 모델 |\n",
        "| **Layer Normalization** | 배치 크기와 무관하게 정규화 | 샘플별 정규화 | RNN, Transformer |\n",
        "| **Dropout** | 과적합 방지 | 뉴런 랜덤 비활성화 | Fully Connected Layer |\n",
        "\n",
        "---"
      ]
    },
    {
      "cell_type": "markdown",
      "metadata": {
        "id": "Y-fkKdbjlEBM"
      },
      "source": [
        "Prominent Techniques\n",
        "* Batch Normalization: **Internal Covariance Shift** 방지\n",
        "* Dropout: **Overfitting** 방지"
      ]
    },
    {
      "cell_type": "code",
      "execution_count": 9,
      "metadata": {
        "id": "YWB48oKQlEBM"
      },
      "outputs": [],
      "source": [
        "class Net(nn.Module):\n",
        "    def __init__(self):\n",
        "        super().__init__()\n",
        "        self.fc1 = nn.Linear(28 * 28, 2**8)\n",
        "        self.fc2 = nn.Linear(2**8, 2**6)\n",
        "        self.fc3 = nn.Linear(2**6, 2**5)\n",
        "        self.fc4 = nn.Linear(2**5, 10)\n",
        "\n",
        "    def forward(self, x):\n",
        "        x = torch.flatten(x, 1)\n",
        "        x = F.relu(self.fc1(x))\n",
        "        x = F.relu(self.fc2(x))\n",
        "        x = F.relu(self.fc3(x))\n",
        "        x = self.fc4(x)\n",
        "        x = F.softmax(x, dim=1)\n",
        "        return x"
      ]
    },
    {
      "cell_type": "code",
      "execution_count": 10,
      "metadata": {
        "id": "wb1wQqqVlEBM"
      },
      "outputs": [],
      "source": [
        "class NetBN(nn.Module):\n",
        "    def __init__(self):\n",
        "        super().__init__()\n",
        "        self.fc1 = nn.Linear(28 * 28, 2**8)\n",
        "        self.bn1 = nn.BatchNorm1d(2**8)\n",
        "        self.fc2 = nn.Linear(2**8, 2**6)\n",
        "        self.bn2 = nn.BatchNorm1d(2**6)\n",
        "        self.fc3 = nn.Linear(2**6, 2**5)\n",
        "        self.fc4 = nn.Linear(2**5, 10)\n",
        "\n",
        "    def forward(self, x):\n",
        "        # same as torch.flatten(x,1)\n",
        "        x = x.view(x.size(0), -1)\n",
        "        x = F.relu(self.bn1(self.fc1(x)))\n",
        "        x = F.relu(self.bn2(self.fc2(x)))\n",
        "        x = F.relu(self.fc3(x))\n",
        "        x = self.fc4(x)\n",
        "        x = F.softmax(x, dim=1)\n",
        "        return x"
      ]
    },
    {
      "cell_type": "code",
      "execution_count": 11,
      "metadata": {
        "id": "ZnC_2K1ilEBM"
      },
      "outputs": [],
      "source": [
        "class NetDO(nn.Module):\n",
        "    def __init__(self):\n",
        "        super().__init__()\n",
        "        self.fc1 = nn.Linear(28 * 28, 2**8)\n",
        "        self.fc2 = nn.Linear(2**8, 2**6)\n",
        "        self.fc3 = nn.Linear(2**6, 2**5)\n",
        "        self.fc4 = nn.Linear(2**5, 10)\n",
        "        self.dropout1 = nn.Dropout(p=0.8)\n",
        "        self.dropout2 = nn.Dropout(p=0.5)\n",
        "\n",
        "    def forward(self, x):\n",
        "        # same as x.view(x.size(0), -1)\n",
        "        x = x.view(x.shape[0], -1)\n",
        "        x = F.relu(self.fc1(x))\n",
        "        x = self.dropout1(x)\n",
        "        x = F.relu(self.fc2(x))\n",
        "        x = self.dropout2(x)\n",
        "        x = F.relu(self.fc3(x))\n",
        "        x = self.fc4(x)\n",
        "        x = F.softmax(x, dim=1)\n",
        "        return x"
      ]
    },
    {
      "cell_type": "markdown",
      "metadata": {
        "id": "Bp54pg--lEBM"
      },
      "source": [
        "## Train the Network"
      ]
    },
    {
      "cell_type": "markdown",
      "metadata": {
        "id": "xH_taLKMlEBM"
      },
      "source": [
        "### Select loss function, optimizer, learning rate scheduler"
      ]
    },
    {
      "cell_type": "code",
      "execution_count": 12,
      "metadata": {
        "id": "0xE8eI7UlEBM"
      },
      "outputs": [],
      "source": [
        "num_epochs = 20"
      ]
    },
    {
      "cell_type": "code",
      "execution_count": 13,
      "metadata": {
        "id": "dMVef3lNlEBM"
      },
      "outputs": [],
      "source": [
        "device = torch.device('cuda:0' if torch.cuda.is_available() else 'cpu')"
      ]
    },
    {
      "cell_type": "code",
      "execution_count": 14,
      "metadata": {
        "id": "AMrKxunzlEBN"
      },
      "outputs": [],
      "source": [
        "net_nn = Net()\n",
        "net_bn = NetBN()\n",
        "net_do = NetDO()"
      ]
    },
    {
      "cell_type": "code",
      "execution_count": 15,
      "metadata": {
        "id": "NTF1S1BxlEBN"
      },
      "outputs": [],
      "source": [
        "criterion = nn.CrossEntropyLoss()"
      ]
    },
    {
      "cell_type": "code",
      "execution_count": 16,
      "metadata": {
        "id": "4MAa3S4KlEBN"
      },
      "outputs": [],
      "source": [
        "optimizer_nn = optim.Adam(\n",
        "    net_nn.parameters(),\n",
        "    lr=0.001,\n",
        ")"
      ]
    },
    {
      "cell_type": "code",
      "execution_count": 17,
      "metadata": {
        "id": "5HS0aPBylEBN"
      },
      "outputs": [],
      "source": [
        "optimizer_bn = optim.Adam(\n",
        "    net_bn.parameters(),\n",
        "    lr=0.001,\n",
        ")"
      ]
    },
    {
      "cell_type": "code",
      "execution_count": 18,
      "metadata": {
        "id": "7tq7FYPElEBN"
      },
      "outputs": [],
      "source": [
        "optimizer_do = optim.Adam(\n",
        "    net_do.parameters(),\n",
        "    lr=0.001,\n",
        ")"
      ]
    },
    {
      "cell_type": "markdown",
      "metadata": {
        "id": "2JuweeGalEBN"
      },
      "source": [
        "`torch.optim.lr_scheduler.StepLR()`: step_size마다 gamma의 비율로 learning_rate 감소"
      ]
    },
    {
      "cell_type": "code",
      "execution_count": 19,
      "metadata": {
        "id": "kTnzwh2mlEBN"
      },
      "outputs": [],
      "source": [
        "scheduler_nn = torch.optim.lr_scheduler.StepLR(optimizer_nn, step_size= 5, gamma=0.8)"
      ]
    },
    {
      "cell_type": "code",
      "execution_count": 20,
      "metadata": {
        "id": "-kWXl5c6lEBN"
      },
      "outputs": [],
      "source": [
        "scheduler_bn = torch.optim.lr_scheduler.StepLR(optimizer_bn, step_size= 5, gamma=0.8)"
      ]
    },
    {
      "cell_type": "code",
      "execution_count": 21,
      "metadata": {
        "id": "xD-Q7ITQlEBN"
      },
      "outputs": [],
      "source": [
        "scheduler_do = torch.optim.lr_scheduler.StepLR(optimizer_do, step_size= 5, gamma=0.8)"
      ]
    },
    {
      "cell_type": "markdown",
      "metadata": {
        "id": "Bu9ucJ9slEBN"
      },
      "source": [
        "### Define `train(net, optimizer, scheduler, path_name)` Function"
      ]
    },
    {
      "cell_type": "code",
      "execution_count": 22,
      "metadata": {
        "id": "zcFfDVualEBN"
      },
      "outputs": [],
      "source": [
        "def train(net, optimizer, scheduler, path_name):\n",
        "\n",
        "    train_losses, test_losses = [], []\n",
        "\n",
        "    for epoch in range(num_epochs):  # loop over the dataset multiple times\n",
        "\n",
        "        # set train mode\n",
        "        net.train()\n",
        "\n",
        "        # training\n",
        "        running_loss = 0.0\n",
        "\n",
        "        for inputs, labels in train_dataloader:\n",
        "\n",
        "            inputs, labels = inputs.to(device), labels.to(device)\n",
        "\n",
        "            # zero the parameter gradients\n",
        "            optimizer.zero_grad()\n",
        "\n",
        "            outputs = net(inputs)\n",
        "\n",
        "            loss = criterion(outputs, labels)\n",
        "\n",
        "            loss.backward()\n",
        "\n",
        "            optimizer.step()\n",
        "\n",
        "            running_loss += loss.item()\n",
        "\n",
        "        # adjust learning rate with scheduler\n",
        "        scheduler.step()\n",
        "\n",
        "\n",
        "        # evaluation(validation)\n",
        "        test_loss = 0.0\n",
        "        accuracy = 0.0\n",
        "\n",
        "        # turn off grardients for validation\n",
        "        with torch.no_grad():\n",
        "\n",
        "            # set evaluation (test) mode\n",
        "            net.eval()\n",
        "\n",
        "            for inputs, labels in test_dataloader:\n",
        "\n",
        "                inputs, labels = inputs.to(device), labels.to(device)\n",
        "\n",
        "                outputs = net(inputs)\n",
        "\n",
        "                test_loss += criterion(outputs, labels)\n",
        "\n",
        "                # 로그 확률에 지수 적용\n",
        "                ps = torch.exp(outputs)\n",
        "\n",
        "                # topk는 k번째로 큰 숫자를 찾아내는 것\n",
        "                # dim=1 는 dimension을 의미\n",
        "                top_p, top_class = ps.topk(1, dim=1)\n",
        "\n",
        "\n",
        "                # labels를 top_class와 똑같은 형태로 만든다음에, 얼마나 같은게 있는지 확인한다.\n",
        "                equals = top_class == labels.view(*top_class.shape)\n",
        "\n",
        "\n",
        "                # equals를 float으로 바꾸고 평균 정확도를 구한다.\n",
        "                accuracy += torch.mean(equals.type(torch.FloatTensor))\n",
        "\n",
        "\n",
        "        test_accuracy = accuracy / len(test_dataloader)\n",
        "\n",
        "        current_train_loss = running_loss / len(train_dataloader)\n",
        "        current_test_loss = test_loss / len(test_dataloader)\n",
        "\n",
        "        train_losses.append(current_train_loss)\n",
        "        test_losses.append(current_test_loss.detach().cpu().numpy())\n",
        "\n",
        "        print(\n",
        "            f\"Epoch: {epoch+1} / {num_epochs}..\",\n",
        "            \"Training Loss: {:.5f}..  \".format(current_train_loss),\n",
        "            \"Test Loss: {:.5f}..  \".format(current_test_loss),\n",
        "            \"Test Accuracy: {:.3f}\".format(test_accuracy)\n",
        "\n",
        "        )\n",
        "\n",
        "    # save trained model\n",
        "    PATH = f'./{path_name}.pth'\n",
        "    torch.save(net.state_dict(), PATH)\n",
        "\n",
        "    return train_losses, test_losses"
      ]
    },
    {
      "cell_type": "markdown",
      "metadata": {
        "id": "p3Y1B_t_lEBO"
      },
      "source": [
        "### Näive Neural Net"
      ]
    },
    {
      "cell_type": "code",
      "execution_count": 23,
      "metadata": {
        "id": "adEoRZnzlEBO"
      },
      "outputs": [],
      "source": [
        "net = net_nn\n",
        "optimizer = optimizer_nn\n",
        "scheduler = scheduler_nn"
      ]
    },
    {
      "cell_type": "code",
      "execution_count": 24,
      "metadata": {
        "id": "GGnS1xwolEBO"
      },
      "outputs": [],
      "source": [
        "net = net.to(device)"
      ]
    },
    {
      "cell_type": "code",
      "execution_count": 25,
      "metadata": {
        "id": "6tUeJGU6lEBO",
        "outputId": "195fe090-791b-47ee-d056-2a6c5c8d17a4",
        "colab": {
          "base_uri": "https://localhost:8080/"
        }
      },
      "outputs": [
        {
          "output_type": "stream",
          "name": "stdout",
          "text": [
            "----------------------------------------------------------------\n",
            "        Layer (type)               Output Shape         Param #\n",
            "================================================================\n",
            "            Linear-1                  [32, 256]         200,960\n",
            "            Linear-2                   [32, 64]          16,448\n",
            "            Linear-3                   [32, 32]           2,080\n",
            "            Linear-4                   [32, 10]             330\n",
            "================================================================\n",
            "Total params: 219,818\n",
            "Trainable params: 219,818\n",
            "Non-trainable params: 0\n",
            "----------------------------------------------------------------\n",
            "Input size (MB): 0.10\n",
            "Forward/backward pass size (MB): 0.09\n",
            "Params size (MB): 0.84\n",
            "Estimated Total Size (MB): 1.02\n",
            "----------------------------------------------------------------\n"
          ]
        }
      ],
      "source": [
        "summary(net, (1,28,28), batch_size = batch_size)"
      ]
    },
    {
      "cell_type": "code",
      "execution_count": 27,
      "metadata": {
        "id": "oy1_Z2mMlEBO",
        "outputId": "d39eb91b-9037-435c-8922-08abb4acdf73",
        "colab": {
          "base_uri": "https://localhost:8080/"
        }
      },
      "outputs": [
        {
          "output_type": "stream",
          "name": "stdout",
          "text": [
            "Epoch: 1 / 20.. Training Loss: 1.63993..   Test Loss: 1.65316..   Test Accuracy: 0.808\n",
            "Epoch: 2 / 20.. Training Loss: 1.63820..   Test Loss: 1.65693..   Test Accuracy: 0.804\n",
            "Epoch: 3 / 20.. Training Loss: 1.63697..   Test Loss: 1.65149..   Test Accuracy: 0.809\n",
            "Epoch: 4 / 20.. Training Loss: 1.63700..   Test Loss: 1.65756..   Test Accuracy: 0.803\n",
            "Epoch: 5 / 20.. Training Loss: 1.63516..   Test Loss: 1.65497..   Test Accuracy: 0.806\n",
            "Epoch: 6 / 20.. Training Loss: 1.63331..   Test Loss: 1.65033..   Test Accuracy: 0.810\n",
            "Epoch: 7 / 20.. Training Loss: 1.63056..   Test Loss: 1.65239..   Test Accuracy: 0.808\n",
            "Epoch: 8 / 20.. Training Loss: 1.63163..   Test Loss: 1.65076..   Test Accuracy: 0.811\n",
            "Epoch: 9 / 20.. Training Loss: 1.63006..   Test Loss: 1.64673..   Test Accuracy: 0.814\n",
            "Epoch: 10 / 20.. Training Loss: 1.63010..   Test Loss: 1.66003..   Test Accuracy: 0.800\n",
            "Epoch: 11 / 20.. Training Loss: 1.62741..   Test Loss: 1.64615..   Test Accuracy: 0.814\n",
            "Epoch: 12 / 20.. Training Loss: 1.61459..   Test Loss: 1.60650..   Test Accuracy: 0.855\n",
            "Epoch: 13 / 20.. Training Loss: 1.57659..   Test Loss: 1.59656..   Test Accuracy: 0.863\n",
            "Epoch: 14 / 20.. Training Loss: 1.56937..   Test Loss: 1.58895..   Test Accuracy: 0.871\n",
            "Epoch: 15 / 20.. Training Loss: 1.56576..   Test Loss: 1.58834..   Test Accuracy: 0.873\n",
            "Epoch: 16 / 20.. Training Loss: 1.56136..   Test Loss: 1.58470..   Test Accuracy: 0.876\n",
            "Epoch: 17 / 20.. Training Loss: 1.56015..   Test Loss: 1.58529..   Test Accuracy: 0.875\n",
            "Epoch: 18 / 20.. Training Loss: 1.55834..   Test Loss: 1.58881..   Test Accuracy: 0.872\n",
            "Epoch: 19 / 20.. Training Loss: 1.55692..   Test Loss: 1.58272..   Test Accuracy: 0.878\n",
            "Epoch: 20 / 20.. Training Loss: 1.55509..   Test Loss: 1.58239..   Test Accuracy: 0.878\n"
          ]
        }
      ],
      "source": [
        "train_loss_list_nn, test_loss_list_nn = train(net=net, optimizer=optimizer, scheduler=scheduler, path_name='FMNIST_nn_naive')"
      ]
    },
    {
      "cell_type": "code",
      "execution_count": 28,
      "metadata": {
        "id": "2xIunbjrlEBa",
        "outputId": "111dc8ea-2bf7-435e-f12d-fc7a70d3fd1b",
        "colab": {
          "base_uri": "https://localhost:8080/",
          "height": 452
        }
      },
      "outputs": [
        {
          "output_type": "display_data",
          "data": {
            "text/plain": [
              "<Figure size 640x480 with 1 Axes>"
            ],
            "image/png": "[encoded data removed]"
          },
          "metadata": {}
        }
      ],
      "source": [
        "plt.plot(train_loss_list_nn, label='Training loss')\n",
        "plt.plot(test_loss_list_nn, label='Validation loss')\n",
        "plt.legend()\n",
        "plt.title('Training and Validation loss for Näive Neural Net')\n",
        "plt.show()"
      ]
    },
    {
      "cell_type": "markdown",
      "metadata": {
        "id": "Q5t59LLPlEBb"
      },
      "source": [
        "### Neural Network with Batch Normalization"
      ]
    },
    {
      "cell_type": "code",
      "execution_count": 29,
      "metadata": {
        "id": "_1rGWob2lEBb"
      },
      "outputs": [],
      "source": [
        "net = net_bn\n",
        "optimizer = optimizer_bn\n",
        "scheduler = scheduler_bn"
      ]
    },
    {
      "cell_type": "code",
      "execution_count": 30,
      "metadata": {
        "id": "Lw_SAdTJlEBb"
      },
      "outputs": [],
      "source": [
        "net = net.to(device)"
      ]
    },
    {
      "cell_type": "code",
      "execution_count": 31,
      "metadata": {
        "id": "mBUU1WkQlEBc",
        "outputId": "4317c34e-3825-4189-d050-e667c0420c82",
        "colab": {
          "base_uri": "https://localhost:8080/"
        }
      },
      "outputs": [
        {
          "output_type": "stream",
          "name": "stdout",
          "text": [
            "----------------------------------------------------------------\n",
            "        Layer (type)               Output Shape         Param #\n",
            "================================================================\n",
            "            Linear-1                  [32, 256]         200,960\n",
            "       BatchNorm1d-2                  [32, 256]             512\n",
            "            Linear-3                   [32, 64]          16,448\n",
            "       BatchNorm1d-4                   [32, 64]             128\n",
            "            Linear-5                   [32, 32]           2,080\n",
            "            Linear-6                   [32, 10]             330\n",
            "================================================================\n",
            "Total params: 220,458\n",
            "Trainable params: 220,458\n",
            "Non-trainable params: 0\n",
            "----------------------------------------------------------------\n",
            "Input size (MB): 0.10\n",
            "Forward/backward pass size (MB): 0.17\n",
            "Params size (MB): 0.84\n",
            "Estimated Total Size (MB): 1.10\n",
            "----------------------------------------------------------------\n"
          ]
        }
      ],
      "source": [
        "summary(net, (1,28,28), batch_size = batch_size)"
      ]
    },
    {
      "cell_type": "code",
      "execution_count": 32,
      "metadata": {
        "id": "gtZyt9f1lEBc",
        "outputId": "1f1011b8-6ded-4e98-83d4-166ba4508d30",
        "colab": {
          "base_uri": "https://localhost:8080/"
        }
      },
      "outputs": [
        {
          "output_type": "stream",
          "name": "stdout",
          "text": [
            "Epoch: 1 / 20.. Training Loss: 1.68022..   Test Loss: 1.62104..   Test Accuracy: 0.842\n",
            "Epoch: 2 / 20.. Training Loss: 1.61819..   Test Loss: 1.61090..   Test Accuracy: 0.851\n",
            "Epoch: 3 / 20.. Training Loss: 1.60524..   Test Loss: 1.60327..   Test Accuracy: 0.859\n",
            "Epoch: 4 / 20.. Training Loss: 1.59966..   Test Loss: 1.60265..   Test Accuracy: 0.858\n",
            "Epoch: 5 / 20.. Training Loss: 1.59320..   Test Loss: 1.60207..   Test Accuracy: 0.859\n",
            "Epoch: 6 / 20.. Training Loss: 1.58543..   Test Loss: 1.59745..   Test Accuracy: 0.863\n",
            "Epoch: 7 / 20.. Training Loss: 1.58152..   Test Loss: 1.59739..   Test Accuracy: 0.864\n",
            "Epoch: 8 / 20.. Training Loss: 1.57936..   Test Loss: 1.59214..   Test Accuracy: 0.868\n",
            "Epoch: 9 / 20.. Training Loss: 1.57626..   Test Loss: 1.59061..   Test Accuracy: 0.869\n",
            "Epoch: 10 / 20.. Training Loss: 1.57516..   Test Loss: 1.60275..   Test Accuracy: 0.857\n",
            "Epoch: 11 / 20.. Training Loss: 1.56828..   Test Loss: 1.58356..   Test Accuracy: 0.876\n",
            "Epoch: 12 / 20.. Training Loss: 1.56630..   Test Loss: 1.58686..   Test Accuracy: 0.874\n",
            "Epoch: 13 / 20.. Training Loss: 1.56499..   Test Loss: 1.58919..   Test Accuracy: 0.872\n",
            "Epoch: 14 / 20.. Training Loss: 1.56345..   Test Loss: 1.58320..   Test Accuracy: 0.877\n",
            "Epoch: 15 / 20.. Training Loss: 1.56115..   Test Loss: 1.58437..   Test Accuracy: 0.877\n",
            "Epoch: 16 / 20.. Training Loss: 1.55851..   Test Loss: 1.58134..   Test Accuracy: 0.880\n",
            "Epoch: 17 / 20.. Training Loss: 1.55577..   Test Loss: 1.57982..   Test Accuracy: 0.881\n",
            "Epoch: 18 / 20.. Training Loss: 1.55548..   Test Loss: 1.58235..   Test Accuracy: 0.879\n",
            "Epoch: 19 / 20.. Training Loss: 1.55377..   Test Loss: 1.57852..   Test Accuracy: 0.882\n",
            "Epoch: 20 / 20.. Training Loss: 1.55170..   Test Loss: 1.57996..   Test Accuracy: 0.880\n"
          ]
        }
      ],
      "source": [
        "train_loss_list_bn, test_loss_list_bn = train(net=net, optimizer=optimizer, scheduler=scheduler, path_name='FMNIST_nn_batchnorm')"
      ]
    },
    {
      "cell_type": "code",
      "execution_count": 33,
      "metadata": {
        "id": "sp7lnvf-lEBd",
        "outputId": "1d06964b-d89a-4931-b85d-9720896a4541",
        "colab": {
          "base_uri": "https://localhost:8080/",
          "height": 452
        }
      },
      "outputs": [
        {
          "output_type": "display_data",
          "data": {
            "text/plain": [
              "<Figure size 640x480 with 1 Axes>"
            ],
            "image/png": "[encoded data removed]"
          },
          "metadata": {}
        }
      ],
      "source": [
        "plt.plot(train_loss_list_bn, label='Training loss')\n",
        "plt.plot(test_loss_list_bn, label='Validation loss')\n",
        "plt.legend()\n",
        "plt.title('Training and Validation loss for Neural Net with Batch Normalization')\n",
        "plt.show()"
      ]
    },
    {
      "cell_type": "markdown",
      "metadata": {
        "id": "YWS69cCzlEBd"
      },
      "source": [
        "### Neural Network with Dropout"
      ]
    },
    {
      "cell_type": "code",
      "execution_count": 34,
      "metadata": {
        "id": "I2xqWiQ0lEBd"
      },
      "outputs": [],
      "source": [
        "net = net_do\n",
        "optimizer = optimizer_do\n",
        "scheduler = scheduler_do"
      ]
    },
    {
      "cell_type": "code",
      "execution_count": 35,
      "metadata": {
        "id": "0Nt6W_NLlEBd"
      },
      "outputs": [],
      "source": [
        "net = net.to(device)"
      ]
    },
    {
      "cell_type": "code",
      "execution_count": 36,
      "metadata": {
        "id": "f2O9yCB4lEBd",
        "outputId": "55d65f0a-cd50-4afa-948a-007c6ed0286e",
        "colab": {
          "base_uri": "https://localhost:8080/"
        }
      },
      "outputs": [
        {
          "output_type": "stream",
          "name": "stdout",
          "text": [
            "----------------------------------------------------------------\n",
            "        Layer (type)               Output Shape         Param #\n",
            "================================================================\n",
            "            Linear-1                  [32, 256]         200,960\n",
            "           Dropout-2                  [32, 256]               0\n",
            "            Linear-3                   [32, 64]          16,448\n",
            "           Dropout-4                   [32, 64]               0\n",
            "            Linear-5                   [32, 32]           2,080\n",
            "            Linear-6                   [32, 10]             330\n",
            "================================================================\n",
            "Total params: 219,818\n",
            "Trainable params: 219,818\n",
            "Non-trainable params: 0\n",
            "----------------------------------------------------------------\n",
            "Input size (MB): 0.10\n",
            "Forward/backward pass size (MB): 0.17\n",
            "Params size (MB): 0.84\n",
            "Estimated Total Size (MB): 1.10\n",
            "----------------------------------------------------------------\n"
          ]
        }
      ],
      "source": [
        "summary(net, (1,28,28), batch_size = batch_size)"
      ]
    },
    {
      "cell_type": "code",
      "execution_count": 37,
      "metadata": {
        "id": "UsZX-RzmlEBd",
        "outputId": "b8b2b50d-40cf-4c9e-da06-58fec9855d9e",
        "colab": {
          "base_uri": "https://localhost:8080/"
        }
      },
      "outputs": [
        {
          "output_type": "stream",
          "name": "stdout",
          "text": [
            "Epoch: 1 / 20.. Training Loss: 1.86105..   Test Loss: 1.69621..   Test Accuracy: 0.765\n",
            "Epoch: 2 / 20.. Training Loss: 1.74260..   Test Loss: 1.68544..   Test Accuracy: 0.773\n",
            "Epoch: 3 / 20.. Training Loss: 1.72889..   Test Loss: 1.67694..   Test Accuracy: 0.782\n",
            "Epoch: 4 / 20.. Training Loss: 1.71930..   Test Loss: 1.67464..   Test Accuracy: 0.786\n",
            "Epoch: 5 / 20.. Training Loss: 1.71323..   Test Loss: 1.66428..   Test Accuracy: 0.796\n",
            "Epoch: 6 / 20.. Training Loss: 1.70187..   Test Loss: 1.65814..   Test Accuracy: 0.804\n",
            "Epoch: 7 / 20.. Training Loss: 1.69645..   Test Loss: 1.65352..   Test Accuracy: 0.808\n",
            "Epoch: 8 / 20.. Training Loss: 1.69504..   Test Loss: 1.65976..   Test Accuracy: 0.802\n",
            "Epoch: 9 / 20.. Training Loss: 1.69144..   Test Loss: 1.65402..   Test Accuracy: 0.807\n",
            "Epoch: 10 / 20.. Training Loss: 1.68673..   Test Loss: 1.64866..   Test Accuracy: 0.811\n",
            "Epoch: 11 / 20.. Training Loss: 1.68068..   Test Loss: 1.64723..   Test Accuracy: 0.813\n",
            "Epoch: 12 / 20.. Training Loss: 1.67609..   Test Loss: 1.64501..   Test Accuracy: 0.816\n",
            "Epoch: 13 / 20.. Training Loss: 1.67693..   Test Loss: 1.64305..   Test Accuracy: 0.818\n",
            "Epoch: 14 / 20.. Training Loss: 1.67860..   Test Loss: 1.64288..   Test Accuracy: 0.818\n",
            "Epoch: 15 / 20.. Training Loss: 1.67496..   Test Loss: 1.64260..   Test Accuracy: 0.817\n",
            "Epoch: 16 / 20.. Training Loss: 1.67115..   Test Loss: 1.65133..   Test Accuracy: 0.809\n",
            "Epoch: 17 / 20.. Training Loss: 1.66820..   Test Loss: 1.63939..   Test Accuracy: 0.821\n",
            "Epoch: 18 / 20.. Training Loss: 1.66906..   Test Loss: 1.64032..   Test Accuracy: 0.820\n",
            "Epoch: 19 / 20.. Training Loss: 1.66835..   Test Loss: 1.64003..   Test Accuracy: 0.820\n",
            "Epoch: 20 / 20.. Training Loss: 1.66443..   Test Loss: 1.63519..   Test Accuracy: 0.826\n"
          ]
        }
      ],
      "source": [
        "train_loss_list_do, test_loss_list_do = train(net=net, optimizer=optimizer, scheduler=scheduler, path_name='FMNIST_nn_dropout')"
      ]
    },
    {
      "cell_type": "code",
      "execution_count": 38,
      "metadata": {
        "id": "xLE1GdqslEBd",
        "outputId": "afef0a65-7e1a-4d56-9b20-37a720ebfedf",
        "colab": {
          "base_uri": "https://localhost:8080/",
          "height": 452
        }
      },
      "outputs": [
        {
          "output_type": "display_data",
          "data": {
            "text/plain": [
              "<Figure size 640x480 with 1 Axes>"
            ],
            "image/png": "[encoded data removed]"
          },
          "metadata": {}
        }
      ],
      "source": [
        "plt.plot(train_loss_list_do, label='Training loss')\n",
        "plt.plot(test_loss_list_do, label='Validation loss')\n",
        "plt.legend()\n",
        "plt.title('Training and Validation loss for Neural Net with Dropout')\n",
        "plt.show()"
      ]
    },
    {
      "cell_type": "code",
      "source": [],
      "metadata": {
        "id": "B0z1QNL2i96I"
      },
      "execution_count": 38,
      "outputs": []
    },
    {
      "cell_type": "markdown",
      "source": [
        "## Example data 로 세 모델의 예측결과 비교"
      ],
      "metadata": {
        "id": "agzBVeFxjZlN"
      }
    },
    {
      "cell_type": "code",
      "source": [
        "import random\n",
        "r = random.randint(0, len(test_data)-1)\n",
        "X_single_data = test_data.data[r:r + 1].view(-1,28*28).float().to(device)\n",
        "Y_single_data = test_data.targets[r:r + 1].to(device)"
      ],
      "metadata": {
        "id": "s-StWRuSh9z2"
      },
      "execution_count": 62,
      "outputs": []
    },
    {
      "cell_type": "code",
      "source": [
        "net_nn.to(device)\n",
        "net_bn.to(device)\n",
        "net_do.to(device)\n",
        "\n",
        "# 모델 인스턴스 생성 및 저장된 가중치 로드\n",
        "net_nn.load_state_dict(torch.load(\"FMNIST_nn_naive.pth\"))\n",
        "net_bn.load_state_dict(torch.load(\"FMNIST_nn_batchnorm.pth\"))\n",
        "net_do.load_state_dict(torch.load(\"FMNIST_nn_dropout.pth\"))\n",
        "\n",
        "# 모델을 평가 모드로 설정\n",
        "net_nn.eval()\n",
        "net_bn.eval()\n",
        "net_do.eval()\n",
        "\n",
        "# 각 모델의 출력 계산\n",
        "output_nn = net_nn(X_single_data)\n",
        "output_bn = net_bn(X_single_data)\n",
        "output_do = net_do(X_single_data)\n",
        "\n",
        "print(\"Output of net_nn:\", output_nn.cpu().data)\n",
        "print(\"Output of net_bn:\", output_bn.cpu().data)\n",
        "print(\"Output of net_do:\", output_do.cpu().data)\n",
        "\n",
        "# 예측 레이블 계산\n",
        "pred_nn = torch.max(output_nn, 1)[1].item()\n",
        "pred_bn = torch.max(output_bn, 1)[1].item()\n",
        "pred_do = torch.max(output_do, 1)[1].item()\n",
        "\n",
        "# 이미지 시각화\n",
        "fig, axes = plt.subplots(1, 3, figsize=(10, 3))\n",
        "axes[0].imshow(X_single_data.cpu().data.view(28, 28).numpy(), cmap='gray')\n",
        "axes[0].set_title(f'net_nn Prediction: {pred_nn}')\n",
        "axes[0].axis('off')\n",
        "\n",
        "axes[1].imshow(X_single_data.cpu().data.view(28, 28).numpy(), cmap='gray')\n",
        "axes[1].set_title(f'net_bn Prediction: {pred_bn}')\n",
        "axes[1].axis('off')\n",
        "\n",
        "axes[2].imshow(X_single_data.cpu().data.view(28, 28).numpy(), cmap='gray')\n",
        "axes[2].set_title(f'net_do Prediction: {pred_do}')\n",
        "axes[2].axis('off')\n",
        "\n",
        "plt.show()"
      ],
      "metadata": {
        "id": "rdJqzhBrh-P3",
        "outputId": "1c4f5d6a-0cf8-418e-a0b6-bb43c0d396ef",
        "colab": {
          "base_uri": "https://localhost:8080/",
          "height": 341
        }
      },
      "execution_count": 63,
      "outputs": [
        {
          "output_type": "stream",
          "name": "stdout",
          "text": [
            "Output of net_nn: tensor([[1., 0., 0., 0., 0., 0., 0., 0., 0., 0.]])\n",
            "Output of net_bn: tensor([[0., 0., 1., 0., 0., 0., 0., 0., 0., 0.]])\n",
            "Output of net_do: tensor([[1., 0., 0., 0., 0., 0., 0., 0., 0., 0.]])\n"
          ]
        },
        {
          "output_type": "display_data",
          "data": {
            "text/plain": [
              "<Figure size 1000x300 with 3 Axes>"
            ],
            "image/png": "[encoded data removed]"
          },
          "metadata": {}
        }
      ]
    },
    {
      "cell_type": "code",
      "source": [
        "Y_single_data"
      ],
      "metadata": {
        "id": "VIQVnk4qlVqn",
        "outputId": "44d29071-24e6-4ae6-97d1-c980e69743eb",
        "colab": {
          "base_uri": "https://localhost:8080/"
        }
      },
      "execution_count": 64,
      "outputs": [
        {
          "output_type": "execute_result",
          "data": {
            "text/plain": [
              "tensor([0], device='cuda:0')"
            ]
          },
          "metadata": {},
          "execution_count": 64
        }
      ]
    },
    {
      "cell_type": "code",
      "source": [],
      "metadata": {
        "id": "nSR5NU14n5Nm"
      },
      "execution_count": null,
      "outputs": []
    }
  ],
  "metadata": {
    "kernelspec": {
      "display_name": "seungju_env",
      "language": "python",
      "name": "seungju_env"
    },
    "language_info": {
      "codemirror_mode": {
        "name": "ipython",
        "version": 3
      },
      "file_extension": ".py",
      "mimetype": "text/x-python",
      "name": "python",
      "nbconvert_exporter": "python",
      "pygments_lexer": "ipython3",
      "version": "3.7.11"
    },
    "colab": {
      "provenance": [],
      "gpuType": "T4",
      "include_colab_link": true
    },
    "accelerator": "GPU"
  },
  "nbformat": 4,
  "nbformat_minor": 0
}